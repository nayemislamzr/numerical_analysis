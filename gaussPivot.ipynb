{
 "cells": [
  {
   "cell_type": "code",
   "execution_count": 3,
   "metadata": {},
   "outputs": [
    {
     "name": "stdout",
     "output_type": "stream",
     "text": [
      "0.29047619047619017 19.690476190476193 1.0857142857142679 "
     ]
    }
   ],
   "source": [
    "def main():\n",
    "\n",
    "    n = 3\n",
    "    a = [[25, 5, 1, 106.8], [64, 8, 1, 177.2], [144, 12, 1, 279.2]]\n",
    "\n",
    "    for i in range(n-1):\n",
    "        max_elem = i\n",
    "        for j in range(i+1, n):\n",
    "            if a[j][i] > a[max_elem][i]:\n",
    "                max_elem = j\n",
    "        a[i], a[max_elem] = a[max_elem], a[i]\n",
    "        for j in range(i+1, n):\n",
    "            ratio = a[j][i] / a[i][i]\n",
    "            for k in range(i, n+1):\n",
    "                a[j][k] -= (a[i][k]*ratio)\n",
    "\n",
    "    # for i in range(n):\n",
    "    #     for j in range(n+1):\n",
    "    #         print(a[i][j], end = ' ')\n",
    "    #     print()\n",
    "\n",
    "    b = [None]*n\n",
    "\n",
    "    for i in range(n-1, -1, -1):\n",
    "        b[i] = a[i][n]\n",
    "        for j in range(i+1, n):\n",
    "            b[i] -= b[j] * a[i][j]\n",
    "        b[i] /= a[i][i]\n",
    "\n",
    "    for i in range(n):\n",
    "        print(b[i], end = ' ')\n",
    "\n",
    "\n",
    "if __name__ == \"__main__\":\n",
    "    main()\n"
   ]
  }
 ],
 "metadata": {
  "kernelspec": {
   "display_name": "Python 3.11.0 64-bit",
   "language": "python",
   "name": "python3"
  },
  "language_info": {
   "codemirror_mode": {
    "name": "ipython",
    "version": 3
   },
   "file_extension": ".py",
   "mimetype": "text/x-python",
   "name": "python",
   "nbconvert_exporter": "python",
   "pygments_lexer": "ipython3",
   "version": "3.11.0"
  },
  "orig_nbformat": 4,
  "vscode": {
   "interpreter": {
    "hash": "c261aea317cc0286b3b3261fbba9abdec21eaa57589985bb7a274bf54d6cc0a7"
   }
  }
 },
 "nbformat": 4,
 "nbformat_minor": 2
}
