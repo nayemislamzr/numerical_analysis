{
 "cells": [
  {
   "cell_type": "code",
   "execution_count": 6,
   "metadata": {},
   "outputs": [
    {
     "data": {
      "text/html": [
       "<div>\n",
       "<style scoped>\n",
       "    .dataframe tbody tr th:only-of-type {\n",
       "        vertical-align: middle;\n",
       "    }\n",
       "\n",
       "    .dataframe tbody tr th {\n",
       "        vertical-align: top;\n",
       "    }\n",
       "\n",
       "    .dataframe thead th {\n",
       "        text-align: right;\n",
       "    }\n",
       "</style>\n",
       "<table border=\"1\" class=\"dataframe\">\n",
       "  <thead>\n",
       "    <tr style=\"text-align: right;\">\n",
       "      <th></th>\n",
       "      <th>xi</th>\n",
       "      <th>f(xi)</th>\n",
       "      <th>error(%)</th>\n",
       "    </tr>\n",
       "  </thead>\n",
       "  <tbody>\n",
       "    <tr>\n",
       "      <th>0</th>\n",
       "      <td>0.050000</td>\n",
       "      <td>1.118000e-04</td>\n",
       "      <td>NAN</td>\n",
       "    </tr>\n",
       "    <tr>\n",
       "      <th>1</th>\n",
       "      <td>0.062422</td>\n",
       "      <td>-3.977810e-07</td>\n",
       "      <td>19.90032</td>\n",
       "    </tr>\n",
       "    <tr>\n",
       "      <th>2</th>\n",
       "      <td>0.062378</td>\n",
       "      <td>4.429375e-11</td>\n",
       "      <td>0.071573</td>\n",
       "    </tr>\n",
       "  </tbody>\n",
       "</table>\n",
       "</div>"
      ],
      "text/plain": [
       "         xi         f(xi)  error(%)\n",
       "0  0.050000  1.118000e-04       NAN\n",
       "1  0.062422 -3.977810e-07  19.90032\n",
       "2  0.062378  4.429375e-11  0.071573"
      ]
     },
     "metadata": {},
     "output_type": "display_data"
    }
   ],
   "source": [
    "import numpy as np\n",
    "import pandas as pd\n",
    "\n",
    "def f(x):\n",
    "    return x**3-(0.165*x**2)+3.993*1e-4\n",
    "\n",
    "def f1(x):\n",
    "    return (3*x**2) - (2*0.165*x)\n",
    "\n",
    "def newton_raphson(xi,tol):\n",
    "    ab_error = None\n",
    "    absolute_error, f_xi, xi_arr = ([] for i in range(3))\n",
    "    \n",
    "    while ab_error == None or ab_error > tol:\n",
    "        xi_arr.append(xi)\n",
    "        f_xi.append(f(xi))\n",
    "        if ab_error == None:\n",
    "            absolute_error.append(\"NAN\")\n",
    "        else:\n",
    "            absolute_error.append(ab_error)\n",
    "        xi_1 = xi - (f(xi)/f1(xi))\n",
    "        ab_error = np.abs((xi_1-xi)/xi_1)*100\n",
    "        xi = xi_1\n",
    "\n",
    "    d = {\"xi\" : xi_arr, \"f(xi)\" : f_xi, \"error(%)\" : absolute_error};\n",
    "    tabledf = pd.DataFrame(data = d)\n",
    "    display(tabledf)\n",
    "\n",
    "def main():\n",
    "    newton_raphson(0.05,0.0001)\n",
    "\n",
    "if __name__ == \"__main__\":\n",
    "    main()"
   ]
  }
 ],
 "metadata": {
  "kernelspec": {
   "display_name": "Python 3.11.0 64-bit",
   "language": "python",
   "name": "python3"
  },
  "language_info": {
   "codemirror_mode": {
    "name": "ipython",
    "version": 3
   },
   "file_extension": ".py",
   "mimetype": "text/x-python",
   "name": "python",
   "nbconvert_exporter": "python",
   "pygments_lexer": "ipython3",
   "version": "3.11.0"
  },
  "orig_nbformat": 4,
  "vscode": {
   "interpreter": {
    "hash": "c261aea317cc0286b3b3261fbba9abdec21eaa57589985bb7a274bf54d6cc0a7"
   }
  }
 },
 "nbformat": 4,
 "nbformat_minor": 2
}
