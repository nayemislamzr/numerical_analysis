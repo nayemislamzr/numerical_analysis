{
 "cells": [
  {
   "cell_type": "code",
   "execution_count": 38,
   "metadata": {},
   "outputs": [
    {
     "name": "stdout",
     "output_type": "stream",
     "text": [
      "0.2904761904761893 19.690476190476197 1.0857142857142739 "
     ]
    }
   ],
   "source": [
    "def main():\n",
    "\n",
    "    n = 3\n",
    "    u = [[25, 5, 1], [64, 8, 1], [144, 12, 1]]\n",
    "    l = [[0]*n for i in range(n)]\n",
    "    c = [106.8,177.2,279.2]\n",
    "\n",
    "    for i in range(n):\n",
    "        for j in range(i, n):\n",
    "            l[j][i] = u[j][i] / u[i][i]\n",
    "        for j in range(i+1, n):\n",
    "            ratio = u[j][i] / u[i][i]\n",
    "            for k in range(i, n):\n",
    "                u[j][k] -= (u[i][k]*ratio)\n",
    "\n",
    "    # for i in range(n):\n",
    "    #     for j in range(n):\n",
    "    #         print(u[i][j], end=' ')\n",
    "    #     print()\n",
    "\n",
    "    # print()\n",
    "\n",
    "    # for i in range(n):\n",
    "    #     for j in range(n):\n",
    "    #         print(l[i][j], end=' ')\n",
    "    #     print()\n",
    "\n",
    "    z = [None]*n\n",
    "\n",
    "    for i in range(n):\n",
    "        z[i] = c[i]\n",
    "        for j in range(i):\n",
    "            z[i] -= z[j] * l[i][j]\n",
    "\n",
    "    # for i in range(n):\n",
    "    #     print(z[i], end=' ')\n",
    "\n",
    "    x = [None]*n\n",
    "\n",
    "    for i in range(n-1, -1, -1):\n",
    "        x[i] = z[i]\n",
    "        for j in range(i+1, n):\n",
    "            x[i] -= x[j] * u[i][j]\n",
    "        x[i] /= u[i][i]\n",
    "\n",
    "    # for i in range(n):\n",
    "    #     print(x[i], end = ' ')\n",
    "\n",
    "\n",
    "if __name__ == \"__main__\":\n",
    "    main()\n"
   ]
  }
 ],
 "metadata": {
  "kernelspec": {
   "display_name": "Python 3.11.0 64-bit",
   "language": "python",
   "name": "python3"
  },
  "language_info": {
   "codemirror_mode": {
    "name": "ipython",
    "version": 3
   },
   "file_extension": ".py",
   "mimetype": "text/x-python",
   "name": "python",
   "nbconvert_exporter": "python",
   "pygments_lexer": "ipython3",
   "version": "3.11.0"
  },
  "orig_nbformat": 4,
  "vscode": {
   "interpreter": {
    "hash": "c261aea317cc0286b3b3261fbba9abdec21eaa57589985bb7a274bf54d6cc0a7"
   }
  }
 },
 "nbformat": 4,
 "nbformat_minor": 2
}
