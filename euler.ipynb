{
 "cells": [
  {
   "cell_type": "code",
   "execution_count": 17,
   "metadata": {},
   "outputs": [
    {
     "data": {
      "text/html": [
       "<div>\n",
       "<style scoped>\n",
       "    .dataframe tbody tr th:only-of-type {\n",
       "        vertical-align: middle;\n",
       "    }\n",
       "\n",
       "    .dataframe tbody tr th {\n",
       "        vertical-align: top;\n",
       "    }\n",
       "\n",
       "    .dataframe thead th {\n",
       "        text-align: right;\n",
       "    }\n",
       "</style>\n",
       "<table border=\"1\" class=\"dataframe\">\n",
       "  <thead>\n",
       "    <tr style=\"text-align: right;\">\n",
       "      <th></th>\n",
       "      <th>step</th>\n",
       "      <th>theta</th>\n",
       "      <th>error</th>\n",
       "      <th>error(%)</th>\n",
       "    </tr>\n",
       "  </thead>\n",
       "  <tbody>\n",
       "    <tr>\n",
       "      <th>0</th>\n",
       "      <td>480</td>\n",
       "      <td>-987.810648</td>\n",
       "      <td>1635.380648</td>\n",
       "      <td>252.541138</td>\n",
       "    </tr>\n",
       "    <tr>\n",
       "      <th>1</th>\n",
       "      <td>240</td>\n",
       "      <td>110.317400</td>\n",
       "      <td>537.252600</td>\n",
       "      <td>82.964405</td>\n",
       "    </tr>\n",
       "    <tr>\n",
       "      <th>2</th>\n",
       "      <td>120</td>\n",
       "      <td>546.774977</td>\n",
       "      <td>100.795023</td>\n",
       "      <td>15.565116</td>\n",
       "    </tr>\n",
       "    <tr>\n",
       "      <th>3</th>\n",
       "      <td>60</td>\n",
       "      <td>614.966141</td>\n",
       "      <td>32.603859</td>\n",
       "      <td>5.034801</td>\n",
       "    </tr>\n",
       "    <tr>\n",
       "      <th>4</th>\n",
       "      <td>30</td>\n",
       "      <td>632.766663</td>\n",
       "      <td>14.803337</td>\n",
       "      <td>2.285983</td>\n",
       "    </tr>\n",
       "  </tbody>\n",
       "</table>\n",
       "</div>"
      ],
      "text/plain": [
       "   step       theta        error    error(%)\n",
       "0   480 -987.810648  1635.380648  252.541138\n",
       "1   240  110.317400   537.252600   82.964405\n",
       "2   120  546.774977   100.795023   15.565116\n",
       "3    60  614.966141    32.603859    5.034801\n",
       "4    30  632.766663    14.803337    2.285983"
      ]
     },
     "metadata": {},
     "output_type": "display_data"
    }
   ],
   "source": [
    "import pandas as pd\n",
    "import numpy as np\n",
    "\n",
    "def f(x,y):\n",
    "    return (-2.2067*1e-12)*((y**4)-81*(1e8))\n",
    "\n",
    "x0 = 0\n",
    "y0 = 1200\n",
    "\n",
    "def euler(xn,h):\n",
    "    res = y0\n",
    "    steps = int((xn-x0)/h)\n",
    "    for i in range(1,steps+1):\n",
    "        res = res + f(x0+h*i,res)*h\n",
    "    return res\n",
    "\n",
    "def main():\n",
    "    real_ans = 647.57\n",
    "    xn = 480\n",
    "    h = [480,240,120,60,30]\n",
    "    fake_ans = []\n",
    "    et = []\n",
    "    et_ab = []\n",
    "    for i in h:\n",
    "        res = euler(xn,i)\n",
    "        fake_ans.append(res)\n",
    "        et.append(np.abs(real_ans-res))\n",
    "        et_ab.append(np.abs((res-real_ans)/real_ans)*100)\n",
    "    \n",
    "    d = {\"step\" : h, \"theta\" : fake_ans, \"error\": et, \"error(%)\": et_ab}\n",
    "    table = pd.DataFrame(data = d)\n",
    "    display(table)\n",
    "        \n",
    "    # print(f(106.09,0))\n",
    "\n",
    "if __name__ == \"__main__\":\n",
    "    main()"
   ]
  }
 ],
 "metadata": {
  "kernelspec": {
   "display_name": "Python 3.10.4 64-bit",
   "language": "python",
   "name": "python3"
  },
  "language_info": {
   "codemirror_mode": {
    "name": "ipython",
    "version": 3
   },
   "file_extension": ".py",
   "mimetype": "text/x-python",
   "name": "python",
   "nbconvert_exporter": "python",
   "pygments_lexer": "ipython3",
   "version": "3.10.4"
  },
  "orig_nbformat": 4,
  "vscode": {
   "interpreter": {
    "hash": "3196968d684371006099b3d55edeef8ed90365227a30deaef86e5d4aa8519be0"
   }
  }
 },
 "nbformat": 4,
 "nbformat_minor": 2
}
