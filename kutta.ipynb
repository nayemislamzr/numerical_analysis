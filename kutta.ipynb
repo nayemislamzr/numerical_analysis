{
 "cells": [
  {
   "cell_type": "code",
   "execution_count": 14,
   "metadata": {},
   "outputs": [
    {
     "name": "stdout",
     "output_type": "stream",
     "text": [
      "584.2684867703111\n"
     ]
    }
   ],
   "source": [
    "import pandas as pd\n",
    "import numpy as np\n",
    "\n",
    "def f(x,y):\n",
    "    return (-2.2067*1e-12)*((y**4)-81*(1e8))\n",
    "\n",
    "y0 = 1200\n",
    "\n",
    "def heuns(xn, h):\n",
    "    x0 = 0\n",
    "    steps = int((xn-x0)/h)\n",
    "    res = y0\n",
    "    a1 = 1/2\n",
    "    a2 = 1/2\n",
    "    p1 = 1\n",
    "    q1 = 1\n",
    "    for i in range(1,steps+1):\n",
    "        k1 = f(x0,res)\n",
    "        k2 = f(x0+(p1*h),res+q1*k1*h)\n",
    "        res = res + ((a1*k1)+(a2*k2))*h\n",
    "        x0 += h\n",
    "    return res\n",
    "\n",
    "def mid_point(xn, h):\n",
    "    x0 = 0\n",
    "    steps = int((xn-x0)/h)\n",
    "    res = y0\n",
    "    a1 = 0\n",
    "    a2 = 1\n",
    "    p1 = 1/2\n",
    "    q1 = 1/2\n",
    "    for i in range(1,steps+1):\n",
    "        j = i-1\n",
    "        k1 = f(x0,res)\n",
    "        k2 = f(x0+(p1*h),res+(q1*k1*h))\n",
    "        res = res + ((a1*k1)+(a2*k2))*h\n",
    "        x0 += h\n",
    "    return res\n",
    "\n",
    "def ralston(xn,h):\n",
    "    x0 = 0\n",
    "    steps = int((xn-x0)/h)\n",
    "    res = y0\n",
    "    a1 = 1/3\n",
    "    a2 = 2/3\n",
    "    p1 = 3/4\n",
    "    q1 = 3/4\n",
    "    for i in range(1,steps+1):\n",
    "        j = i-1\n",
    "        k1 = f(x0,res)\n",
    "        k2 = f(x0+(p1*h),res+(q1*k1*h))\n",
    "        res = res + ((a1*k1)+(a2*k2))*h\n",
    "        x0 += h\n",
    "    return res\n",
    "\n",
    "def main():\n",
    "    xn = 480\n",
    "    h = 240\n",
    "    print(heuns(xn,h))\n",
    "\n",
    "main()"
   ]
  }
 ],
 "metadata": {
  "kernelspec": {
   "display_name": "Python 3.11.0 64-bit",
   "language": "python",
   "name": "python3"
  },
  "language_info": {
   "codemirror_mode": {
    "name": "ipython",
    "version": 3
   },
   "file_extension": ".py",
   "mimetype": "text/x-python",
   "name": "python",
   "nbconvert_exporter": "python",
   "pygments_lexer": "ipython3",
   "version": "3.11.0"
  },
  "orig_nbformat": 4,
  "vscode": {
   "interpreter": {
    "hash": "c261aea317cc0286b3b3261fbba9abdec21eaa57589985bb7a274bf54d6cc0a7"
   }
  }
 },
 "nbformat": 4,
 "nbformat_minor": 2
}
